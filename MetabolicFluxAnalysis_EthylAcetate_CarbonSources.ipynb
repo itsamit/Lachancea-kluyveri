{
 "cells": [
  {
   "cell_type": "code",
   "execution_count": 1,
   "metadata": {},
   "outputs": [],
   "source": [
    "import cobra\n",
    "import pandas as pd\n",
    "import numpy as np\n",
    "import matplotlib.pyplot as plt\n",
    "\n",
    "%matplotlib inline"
   ]
  },
  {
   "cell_type": "code",
   "execution_count": 4,
   "metadata": {},
   "outputs": [],
   "source": [
    "def conditions(uptake,name,source):\n",
    "    o2_uptake=np.linspace(-20,-0.25,20)\n",
    "    model=cobra.io.read_sbml_model('/Users/amit/Desktop/Mac/ScientificReports/Lachancea-kluyveri-iPN730-master/iPN730.xml')\n",
    "    model.solver='glpk'\n",
    "    model.reactions.EX_cpd00092_e0.bounds=(0,1000)\n",
    "    model.reactions.EX_cpd19013_e0.bounds=(-1000,1000)\n",
    "    model.reactions.get_by_id(source).bounds=(uptake,1000)\n",
    "    df=pd.DataFrame(columns=['Condition','Uptake rate','Oxygen uptake rate','Ethanol','Growth rate','Ethyl acetate','Acetate'])\n",
    "    for our in o2_uptake:\n",
    "        model.reactions.EX_cpd00007_e0.bounds=(our,1000)\n",
    "        #Uptake rate\tOxygen uptake rate\tEthanol\tGrowth rate\tEthyl acetate\n",
    "        model.slim_optimize()\n",
    "        cond=name+\"_\"+str(abs(round(our,2)))\n",
    "        etoh=model.reactions.rxn00543_c0.flux\n",
    "        gr=model.slim_optimize()\n",
    "        etac=model.reactions.EtAc_t.flux\n",
    "        ac=model.reactions.rxn00507_c0.flux\n",
    "        df_temp=pd.DataFrame([[cond,abs(uptake),abs(our),abs(etoh),gr,etac,ac]],columns=['Condition','Uptake rate','Oxygen uptake rate','Ethanol','Growth rate','Ethyl acetate','Acetate'])\n",
    "        df=df.append(df_temp,ignore_index=True)\n",
    "    return df\n",
    "        "
   ]
  },
  {
   "cell_type": "code",
   "execution_count": 5,
   "metadata": {},
   "outputs": [],
   "source": [
    "df_main=pd.DataFrame(columns=['Condition','Uptake rate','Oxygen uptake rate','Ethanol','Growth rate','Ethyl acetate','Acetate'])\n",
    "carb_sources=['EX_cpd00027_e0','EX_cpd00108_e0','EX_cpd00179_e0','EX_cpd00076_e0']\n",
    "carb_names=['Glucose','Galactose','Maltose','Sucrose']\n",
    "uptake_rates=[-2.26,-2.36,-2.2,-1.2]\n",
    "for name,source,uptake in zip(carb_names,carb_sources,uptake_rates):\n",
    "    df=conditions(uptake,name,source)\n",
    "    df_main=df_main.append(df,ignore_index=True)"
   ]
  },
  {
   "cell_type": "code",
   "execution_count": 6,
   "metadata": {},
   "outputs": [
    {
     "data": {
      "text/html": [
       "<div>\n",
       "<style scoped>\n",
       "    .dataframe tbody tr th:only-of-type {\n",
       "        vertical-align: middle;\n",
       "    }\n",
       "\n",
       "    .dataframe tbody tr th {\n",
       "        vertical-align: top;\n",
       "    }\n",
       "\n",
       "    .dataframe thead th {\n",
       "        text-align: right;\n",
       "    }\n",
       "</style>\n",
       "<table border=\"1\" class=\"dataframe\">\n",
       "  <thead>\n",
       "    <tr style=\"text-align: right;\">\n",
       "      <th></th>\n",
       "      <th>Condition</th>\n",
       "      <th>Uptake rate</th>\n",
       "      <th>Oxygen uptake rate</th>\n",
       "      <th>Ethanol</th>\n",
       "      <th>Growth rate</th>\n",
       "      <th>Ethyl acetate</th>\n",
       "      <th>Acetate</th>\n",
       "      <th>Carbon Source</th>\n",
       "    </tr>\n",
       "  </thead>\n",
       "  <tbody>\n",
       "    <tr>\n",
       "      <th>0</th>\n",
       "      <td>Glucose_20.0</td>\n",
       "      <td>2.26</td>\n",
       "      <td>20.000000</td>\n",
       "      <td>0.000000</td>\n",
       "      <td>0.220291</td>\n",
       "      <td>0.000000</td>\n",
       "      <td>0.173941</td>\n",
       "      <td>Glucose</td>\n",
       "    </tr>\n",
       "    <tr>\n",
       "      <th>1</th>\n",
       "      <td>Glucose_18.96</td>\n",
       "      <td>2.26</td>\n",
       "      <td>18.960526</td>\n",
       "      <td>0.000000</td>\n",
       "      <td>0.220291</td>\n",
       "      <td>0.000000</td>\n",
       "      <td>0.173941</td>\n",
       "      <td>Glucose</td>\n",
       "    </tr>\n",
       "    <tr>\n",
       "      <th>2</th>\n",
       "      <td>Glucose_17.92</td>\n",
       "      <td>2.26</td>\n",
       "      <td>17.921053</td>\n",
       "      <td>0.000000</td>\n",
       "      <td>0.220291</td>\n",
       "      <td>0.000000</td>\n",
       "      <td>0.173941</td>\n",
       "      <td>Glucose</td>\n",
       "    </tr>\n",
       "    <tr>\n",
       "      <th>3</th>\n",
       "      <td>Glucose_16.88</td>\n",
       "      <td>2.26</td>\n",
       "      <td>16.881579</td>\n",
       "      <td>0.000000</td>\n",
       "      <td>0.220291</td>\n",
       "      <td>0.000000</td>\n",
       "      <td>0.173941</td>\n",
       "      <td>Glucose</td>\n",
       "    </tr>\n",
       "    <tr>\n",
       "      <th>4</th>\n",
       "      <td>Glucose_15.84</td>\n",
       "      <td>2.26</td>\n",
       "      <td>15.842105</td>\n",
       "      <td>0.000000</td>\n",
       "      <td>0.220291</td>\n",
       "      <td>0.000000</td>\n",
       "      <td>0.173941</td>\n",
       "      <td>Glucose</td>\n",
       "    </tr>\n",
       "    <tr>\n",
       "      <th>...</th>\n",
       "      <td>...</td>\n",
       "      <td>...</td>\n",
       "      <td>...</td>\n",
       "      <td>...</td>\n",
       "      <td>...</td>\n",
       "      <td>...</td>\n",
       "      <td>...</td>\n",
       "      <td>...</td>\n",
       "    </tr>\n",
       "    <tr>\n",
       "      <th>75</th>\n",
       "      <td>Sucrose_4.41</td>\n",
       "      <td>1.20</td>\n",
       "      <td>4.407895</td>\n",
       "      <td>3.918924</td>\n",
       "      <td>0.244215</td>\n",
       "      <td>1.515111</td>\n",
       "      <td>1.707943</td>\n",
       "      <td>Sucrose</td>\n",
       "    </tr>\n",
       "    <tr>\n",
       "      <th>76</th>\n",
       "      <td>Sucrose_3.37</td>\n",
       "      <td>1.20</td>\n",
       "      <td>3.368421</td>\n",
       "      <td>4.771869</td>\n",
       "      <td>0.213074</td>\n",
       "      <td>1.321914</td>\n",
       "      <td>1.490158</td>\n",
       "      <td>Sucrose</td>\n",
       "    </tr>\n",
       "    <tr>\n",
       "      <th>77</th>\n",
       "      <td>Sucrose_2.33</td>\n",
       "      <td>1.20</td>\n",
       "      <td>2.328947</td>\n",
       "      <td>5.624814</td>\n",
       "      <td>0.181934</td>\n",
       "      <td>1.128718</td>\n",
       "      <td>1.272372</td>\n",
       "      <td>Sucrose</td>\n",
       "    </tr>\n",
       "    <tr>\n",
       "      <th>78</th>\n",
       "      <td>Sucrose_1.29</td>\n",
       "      <td>1.20</td>\n",
       "      <td>1.289474</td>\n",
       "      <td>6.477759</td>\n",
       "      <td>0.150793</td>\n",
       "      <td>0.935521</td>\n",
       "      <td>1.054587</td>\n",
       "      <td>Sucrose</td>\n",
       "    </tr>\n",
       "    <tr>\n",
       "      <th>79</th>\n",
       "      <td>Sucrose_0.25</td>\n",
       "      <td>1.20</td>\n",
       "      <td>0.250000</td>\n",
       "      <td>7.891467</td>\n",
       "      <td>0.114220</td>\n",
       "      <td>0.000000</td>\n",
       "      <td>0.090188</td>\n",
       "      <td>Sucrose</td>\n",
       "    </tr>\n",
       "  </tbody>\n",
       "</table>\n",
       "<p>80 rows × 8 columns</p>\n",
       "</div>"
      ],
      "text/plain": [
       "        Condition  Uptake rate  Oxygen uptake rate   Ethanol  Growth rate  \\\n",
       "0    Glucose_20.0         2.26           20.000000  0.000000     0.220291   \n",
       "1   Glucose_18.96         2.26           18.960526  0.000000     0.220291   \n",
       "2   Glucose_17.92         2.26           17.921053  0.000000     0.220291   \n",
       "3   Glucose_16.88         2.26           16.881579  0.000000     0.220291   \n",
       "4   Glucose_15.84         2.26           15.842105  0.000000     0.220291   \n",
       "..            ...          ...                 ...       ...          ...   \n",
       "75   Sucrose_4.41         1.20            4.407895  3.918924     0.244215   \n",
       "76   Sucrose_3.37         1.20            3.368421  4.771869     0.213074   \n",
       "77   Sucrose_2.33         1.20            2.328947  5.624814     0.181934   \n",
       "78   Sucrose_1.29         1.20            1.289474  6.477759     0.150793   \n",
       "79   Sucrose_0.25         1.20            0.250000  7.891467     0.114220   \n",
       "\n",
       "    Ethyl acetate   Acetate Carbon Source  \n",
       "0        0.000000  0.173941       Glucose  \n",
       "1        0.000000  0.173941       Glucose  \n",
       "2        0.000000  0.173941       Glucose  \n",
       "3        0.000000  0.173941       Glucose  \n",
       "4        0.000000  0.173941       Glucose  \n",
       "..            ...       ...           ...  \n",
       "75       1.515111  1.707943       Sucrose  \n",
       "76       1.321914  1.490158       Sucrose  \n",
       "77       1.128718  1.272372       Sucrose  \n",
       "78       0.935521  1.054587       Sucrose  \n",
       "79       0.000000  0.090188       Sucrose  \n",
       "\n",
       "[80 rows x 8 columns]"
      ]
     },
     "execution_count": 6,
     "metadata": {},
     "output_type": "execute_result"
    }
   ],
   "source": [
    "df_main[\"Carbon Source\"]=df_main['Condition'].apply(lambda x:x[0:x.index('_')])\n",
    "df_main"
   ]
  },
  {
   "cell_type": "code",
   "execution_count": 15,
   "metadata": {},
   "outputs": [],
   "source": [
    "df_main.to_csv(\"/Users/amit/Desktop/Mac/ScientificReports/Lachancea-kluyveri-iPN730-master/CarbEthEtAC.csv\")"
   ]
  },
  {
   "cell_type": "code",
   "execution_count": 16,
   "metadata": {},
   "outputs": [
    {
     "data": {
      "image/png": "[encoded data removed]",
      "text/plain": [
       "<Figure size 504x504 with 4 Axes>"
      ]
     },
     "metadata": {
      "needs_background": "light"
     },
     "output_type": "display_data"
    }
   ],
   "source": [
    "fig,((ax1,ax2),(ax3,ax4))=plt.subplots(nrows=2,ncols=2,figsize=(7,7))"
   ]
  },
  {
   "cell_type": "code",
   "execution_count": 17,
   "metadata": {},
   "outputs": [
    {
     "data": {
      "text/plain": [
       "Text(0.5, 1, 'Glucose')"
      ]
     },
     "execution_count": 17,
     "metadata": {},
     "output_type": "execute_result"
    }
   ],
   "source": [
    "df_glucose=df_main[df_main['Carbon Source']=='Glucose'][12:19]\n",
    "ax1.plot(df_glucose['Oxygen uptake rate'],df_glucose['Ethyl acetate'],'ro-')\n",
    "ax1.plot(df_glucose['Oxygen uptake rate'],df_glucose['Ethanol'],'bo-')\n",
    "ax1.plot(df_glucose['Oxygen uptake rate'],df_glucose['Acetate'],'go-')\n",
    "ax1.plot(df_glucose['Oxygen uptake rate'],df_glucose['Growth rate'],'ko-')\n",
    "ax1.set_title('Glucose')"
   ]
  },
  {
   "cell_type": "code",
   "execution_count": 18,
   "metadata": {},
   "outputs": [
    {
     "data": {
      "text/plain": [
       "<matplotlib.legend.Legend at 0x101c8fab90>"
      ]
     },
     "execution_count": 18,
     "metadata": {},
     "output_type": "execute_result"
    }
   ],
   "source": [
    "df_galactose=df_main[df_main['Carbon Source']=='Galactose'][12:19]\n",
    "ax2.plot(df_galactose['Oxygen uptake rate'],df_galactose['Ethyl acetate'],'ro-')\n",
    "ax2.plot(df_galactose['Oxygen uptake rate'],df_galactose['Ethanol'],'bo-')\n",
    "ax2.plot(df_galactose['Oxygen uptake rate'],df_galactose['Acetate'],'go-')\n",
    "ax2.plot(df_galactose['Oxygen uptake rate'],df_galactose['Growth rate'],'ko-')\n",
    "ax2.set_title('Galactose')\n",
    "ax2.legend(['Ethyl Acetate','Ethanol','Acetate','Growth rate'])"
   ]
  },
  {
   "cell_type": "code",
   "execution_count": 19,
   "metadata": {},
   "outputs": [
    {
     "data": {
      "text/plain": [
       "Text(0.5, 1, 'Maltose')"
      ]
     },
     "execution_count": 19,
     "metadata": {},
     "output_type": "execute_result"
    }
   ],
   "source": [
    "df_maltose=df_main[df_main['Carbon Source']=='Maltose'][7:19]\n",
    "ax3.plot(df_maltose['Oxygen uptake rate'],df_maltose['Ethyl acetate'],'ro-')\n",
    "ax3.plot(df_maltose['Oxygen uptake rate'],df_maltose['Ethanol'],'bo-')\n",
    "ax3.plot(df_maltose['Oxygen uptake rate'],df_maltose['Acetate'],'go-')\n",
    "ax3.plot(df_maltose['Oxygen uptake rate'],df_maltose['Growth rate'],'ko-')\n",
    "ax3.set_title('Maltose')"
   ]
  },
  {
   "cell_type": "code",
   "execution_count": 20,
   "metadata": {},
   "outputs": [
    {
     "data": {
      "text/plain": [
       "Text(0.5, 1, 'Sucrose')"
      ]
     },
     "execution_count": 20,
     "metadata": {},
     "output_type": "execute_result"
    }
   ],
   "source": [
    "df_sucrose=df_main[df_main['Carbon Source']=='Sucrose'][12:19]\n",
    "ax4.plot(df_sucrose['Oxygen uptake rate'],df_sucrose['Ethyl acetate'],'ro-')\n",
    "ax4.plot(df_sucrose['Oxygen uptake rate'],df_sucrose['Ethanol'],'bo-')\n",
    "ax4.plot(df_sucrose['Oxygen uptake rate'],df_sucrose['Acetate'],'go-')\n",
    "ax4.plot(df_sucrose['Oxygen uptake rate'],df_sucrose['Growth rate'],'ko-')\n",
    "ax4.set_title('Sucrose')"
   ]
  },
  {
   "cell_type": "code",
   "execution_count": 22,
   "metadata": {},
   "outputs": [],
   "source": [
    "fig.savefig('/Users/amit/Desktop/Mac/ScientificReports/Lachancea-kluyveri-iPN730-master/CarbEtac.png',dpi=600)"
   ]
  },
  {
   "cell_type": "code",
   "execution_count": 23,
   "metadata": {},
   "outputs": [
    {
     "data": {
      "image/png": "[encoded data removed]",
      "text/plain": [
       "<Figure size 504x504 with 4 Axes>"
      ]
     },
     "execution_count": 23,
     "metadata": {},
     "output_type": "execute_result"
    }
   ],
   "source": [
    "fig"
   ]
  },
  {
   "cell_type": "code",
   "execution_count": null,
   "metadata": {},
   "outputs": [],
   "source": []
  }
 ],
 "metadata": {
  "kernelspec": {
   "display_name": "Python 3",
   "language": "python",
   "name": "python3"
  },
  "language_info": {
   "codemirror_mode": {
    "name": "ipython",
    "version": 3
   },
   "file_extension": ".py",
   "mimetype": "text/x-python",
   "name": "python",
   "nbconvert_exporter": "python",
   "pygments_lexer": "ipython3",
   "version": "3.7.6"
  }
 },
 "nbformat": 4,
 "nbformat_minor": 2
}
