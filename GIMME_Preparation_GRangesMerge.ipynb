{
 "cells": [
  {
   "cell_type": "code",
   "execution_count": 2,
   "metadata": {
    "scrolled": true
   },
   "outputs": [
    {
     "name": "stderr",
     "output_type": "stream",
     "text": [
      "Loading required package: BiocGenerics\n",
      "Loading required package: parallel\n",
      "\n",
      "Attaching package: 'BiocGenerics'\n",
      "\n",
      "The following objects are masked from 'package:parallel':\n",
      "\n",
      "    clusterApply, clusterApplyLB, clusterCall, clusterEvalQ,\n",
      "    clusterExport, clusterMap, parApply, parCapply, parLapply,\n",
      "    parLapplyLB, parRapply, parSapply, parSapplyLB\n",
      "\n",
      "The following objects are masked from 'package:stats':\n",
      "\n",
      "    IQR, mad, sd, var, xtabs\n",
      "\n",
      "The following objects are masked from 'package:base':\n",
      "\n",
      "    anyDuplicated, append, as.data.frame, basename, cbind, colnames,\n",
      "    dirname, do.call, duplicated, eval, evalq, Filter, Find, get, grep,\n",
      "    grepl, intersect, is.unsorted, lapply, Map, mapply, match, mget,\n",
      "    order, paste, pmax, pmax.int, pmin, pmin.int, Position, rank,\n",
      "    rbind, Reduce, rownames, sapply, setdiff, sort, table, tapply,\n",
      "    union, unique, unsplit, which, which.max, which.min\n",
      "\n",
      "Loading required package: S4Vectors\n",
      "Warning message:\n",
      "\"package 'S4Vectors' was built under R version 3.6.2\"Loading required package: stats4\n",
      "\n",
      "Attaching package: 'S4Vectors'\n",
      "\n",
      "The following object is masked from 'package:base':\n",
      "\n",
      "    expand.grid\n",
      "\n",
      "Loading required package: IRanges\n",
      "Warning message:\n",
      "\"package 'IRanges' was built under R version 3.6.2\"\n",
      "Attaching package: 'IRanges'\n",
      "\n",
      "The following object is masked from 'package:grDevices':\n",
      "\n",
      "    windows\n",
      "\n",
      "Loading required package: GenomeInfoDb\n",
      "Warning message:\n",
      "\"package 'GenomeInfoDb' was built under R version 3.6.3\"Loading required package: GenomicRanges\n",
      "Loading required package: Biostrings\n",
      "Loading required package: XVector\n",
      "\n",
      "Attaching package: 'Biostrings'\n",
      "\n",
      "The following object is masked from 'package:base':\n",
      "\n",
      "    strsplit\n",
      "\n",
      "Loading required package: rtracklayer\n",
      "Registered S3 method overwritten by 'rvest':\n",
      "  method            from\n",
      "  read_xml.response xml2\n",
      "-- Attaching packages --------------------------------------- tidyverse 1.2.1 --\n",
      "v ggplot2 3.3.0     v purrr   0.3.4\n",
      "v tibble  3.0.1     v dplyr   0.8.5\n",
      "v tidyr   1.0.2     v stringr 1.4.0\n",
      "v readr   1.3.1     v forcats 0.5.0\n",
      "Warning message:\n",
      "\"package 'ggplot2' was built under R version 3.6.3\"Warning message:\n",
      "\"package 'tibble' was built under R version 3.6.3\"Warning message:\n",
      "\"package 'tidyr' was built under R version 3.6.3\"Warning message:\n",
      "\"package 'readr' was built under R version 3.6.2\"Warning message:\n",
      "\"package 'purrr' was built under R version 3.6.3\"Warning message:\n",
      "\"package 'dplyr' was built under R version 3.6.3\"Warning message:\n",
      "\"package 'forcats' was built under R version 3.6.3\"-- Conflicts ------------------------------------------ tidyverse_conflicts() --\n",
      "x dplyr::collapse()   masks Biostrings::collapse(), IRanges::collapse()\n",
      "x dplyr::combine()    masks BiocGenerics::combine()\n",
      "x purrr::compact()    masks XVector::compact()\n",
      "x dplyr::desc()       masks IRanges::desc()\n",
      "x tidyr::expand()     masks S4Vectors::expand()\n",
      "x dplyr::filter()     masks stats::filter()\n",
      "x dplyr::first()      masks S4Vectors::first()\n",
      "x dplyr::lag()        masks stats::lag()\n",
      "x ggplot2::Position() masks BiocGenerics::Position(), base::Position()\n",
      "x purrr::reduce()     masks GenomicRanges::reduce(), IRanges::reduce()\n",
      "x dplyr::rename()     masks S4Vectors::rename()\n",
      "x dplyr::slice()      masks XVector::slice(), IRanges::slice()\n"
     ]
    }
   ],
   "source": [
    "library(BSgenome)\n",
    "library(tidyverse)"
   ]
  },
  {
   "cell_type": "code",
   "execution_count": 7,
   "metadata": {},
   "outputs": [],
   "source": [
    "setwd(\"D:/ScientificReports/GeneExpressionIntegration/\")"
   ]
  },
  {
   "cell_type": "code",
   "execution_count": 8,
   "metadata": {},
   "outputs": [],
   "source": [
    "lk_kbase=readGFF('Lk_kbase.gff')\n",
    "chr_names=unique(lk_kbase$seqid)\n",
    "lk_kbase_gr=makeGRangesFromDataFrame(lk_kbase,keep.extra.columns = TRUE)"
   ]
  },
  {
   "cell_type": "code",
   "execution_count": 9,
   "metadata": {
    "collapsed": true
   },
   "outputs": [
    {
     "data": {
      "text/plain": [
       "GRanges object with 5683 ranges and 1 metadata column:\n",
       "           seqnames          ranges strand |          ids\n",
       "              <Rle>       <IRanges>  <Rle> |     <factor>\n",
       "     [1] CM000687.1       9038-9973      * | SAKL0A00132g\n",
       "     [2] CM000687.1     13363-15120      * | SAKL0A00154g\n",
       "     [3] CM000687.1     17318-18049      * | SAKL0A00176g\n",
       "     [4] CM000687.1     19808-20776      * | SAKL0A00198g\n",
       "     [5] CM000687.1     20959-22908      * | SAKL0A00220g\n",
       "     ...        ...             ...    ... .          ...\n",
       "  [5679] CM000694.1 2300170-2301876      * | SAKL0H26158g\n",
       "  [5680] CM000694.1 2302425-2303825      * | SAKL0H26180g\n",
       "  [5681] CM000694.1 2304201-2306150      * | SAKL0H26202g\n",
       "  [5682] CM000694.1 2308056-2308739      * | SAKL0H26224g\n",
       "  [5683] CM000694.1 2311294-2312949      * | SAKL0H26246g\n",
       "  -------\n",
       "  seqinfo: 8 sequences from an unspecified genome; no seqlengths"
      ]
     },
     "metadata": {},
     "output_type": "display_data"
    }
   ],
   "source": [
    "lk_ids=readGFF('Lk_ids.gff.txt')\n",
    "lk_ids$chrid=chr_names[lk_ids$score]\n",
    "lk_ids_df=data.frame(chr=lk_ids$chrid,start=lk_ids$type,end=lk_ids$start,ids=lk_ids$seqid)\n",
    "lk_ids_gr=makeGRangesFromDataFrame(lk_ids_df,keep.extra.columns = TRUE)\n",
    "lk_ids_gr"
   ]
  },
  {
   "cell_type": "code",
   "execution_count": 10,
   "metadata": {},
   "outputs": [],
   "source": [
    "m=findOverlaps(lk_ids_gr,lk_kbase_gr)"
   ]
  },
  {
   "cell_type": "code",
   "execution_count": 11,
   "metadata": {},
   "outputs": [],
   "source": [
    "lk_ids_gr.matched <- lk_ids_gr[queryHits(m)]\n",
    "mcols(lk_ids_gr.matched) <- cbind.data.frame(mcols(lk_ids_gr.matched),mcols(lk_kbase_gr[subjectHits(m)]))"
   ]
  },
  {
   "cell_type": "code",
   "execution_count": 12,
   "metadata": {},
   "outputs": [],
   "source": [
    "pcc_ids=lk_ids_gr.matched$ID"
   ]
  },
  {
   "cell_type": "code",
   "execution_count": 13,
   "metadata": {},
   "outputs": [],
   "source": [
    "sak_ids=as.character(lk_ids_gr.matched$ids)"
   ]
  },
  {
   "cell_type": "code",
   "execution_count": 14,
   "metadata": {},
   "outputs": [],
   "source": [
    "ids_mapped=cbind(pcc_ids,sak_ids)\n",
    "ids_mapping <- as_tibble(ids_mapped)"
   ]
  },
  {
   "cell_type": "code",
   "execution_count": 15,
   "metadata": {},
   "outputs": [],
   "source": [
    "ids_map=ids_mapping[!duplicated(ids_mapping$sak_ids), ]"
   ]
  },
  {
   "cell_type": "code",
   "execution_count": 16,
   "metadata": {},
   "outputs": [],
   "source": [
    "MapPCSAK=data.frame(ids_map)"
   ]
  },
  {
   "cell_type": "code",
   "execution_count": 12,
   "metadata": {},
   "outputs": [],
   "source": [
    "write.csv(data.frame(ids_map),'IDMapping.csv')"
   ]
  },
  {
   "cell_type": "code",
   "execution_count": 13,
   "metadata": {},
   "outputs": [],
   "source": [
    "GeneExpr=read.csv(\"ExpressionValues.txt\",sep='\\t')\n",
    "Mapping=read.csv(\"MetaFile.txt\",sep='\\t',header=FALSE)"
   ]
  },
  {
   "cell_type": "code",
   "execution_count": 14,
   "metadata": {},
   "outputs": [],
   "source": [
    "MapIDSAK=Mapping[,1:2]\n",
    "colnames(MapIDSAK)=c('IDs','SAKIDs')"
   ]
  },
  {
   "cell_type": "code",
   "execution_count": 15,
   "metadata": {},
   "outputs": [],
   "source": [
    "mean_expr=data.frame(IDs=GeneExpr[,1],Value=apply(X=GeneExpr[,2:5],MARGIN = 1,FUN=mean))\n",
    "MapSAK=merge(x=mean_expr,y=MapIDSAK,by='IDs')"
   ]
  },
  {
   "cell_type": "code",
   "execution_count": 16,
   "metadata": {},
   "outputs": [],
   "source": [
    "MapPC=merge(x=MapSAK,y=MapPCSAK,by.x=\"SAKIDs\",by.y=\"sak_ids\")"
   ]
  },
  {
   "cell_type": "code",
   "execution_count": 17,
   "metadata": {},
   "outputs": [
    {
     "data": {
      "image/png": "[encoded data removed]",
      "text/plain": [
       "Plot with title \"Normal Q-Q Plot\""
      ]
     },
     "metadata": {},
     "output_type": "display_data"
    }
   ],
   "source": [
    "qqnorm(MapPC$Value)\n",
    "qqline(MapPC$Value)"
   ]
  },
  {
   "cell_type": "code",
   "execution_count": 18,
   "metadata": {},
   "outputs": [
    {
     "data": {
      "image/png": "[encoded data removed]",
      "text/plain": [
       "Plot with title \"Histogram of MapPC$Value\""
      ]
     },
     "metadata": {},
     "output_type": "display_data"
    }
   ],
   "source": [
    "hist(MapPC$Value,100)"
   ]
  },
  {
   "cell_type": "code",
   "execution_count": 32,
   "metadata": {},
   "outputs": [
    {
     "data": {
      "text/html": [
       "<table>\n",
       "<thead><tr><th scope=col>Condition</th><th scope=col>SAKIDs</th><th scope=col>IDs</th><th scope=col>Value</th><th scope=col>pcc_ids</th><th scope=col>highlight</th></tr></thead>\n",
       "<tbody>\n",
       "\t<tr><td>YPD           </td><td>SAKL0A00132g  </td><td>11677         </td><td>-4.1578643    </td><td>PCCGCIGL_00007</td><td>FALSE         </td></tr>\n",
       "\t<tr><td>YPD           </td><td>SAKL0A00154g  </td><td>13177         </td><td>-6.2429032    </td><td>PCCGCIGL_00010</td><td>FALSE         </td></tr>\n",
       "\t<tr><td>YPD           </td><td>SAKL0A00176g  </td><td>15008         </td><td>-5.2022015    </td><td>PCCGCIGL_00012</td><td>FALSE         </td></tr>\n",
       "\t<tr><td>YPD           </td><td>SAKL0A00198g  </td><td>15280         </td><td>-2.8861090    </td><td>PCCGCIGL_00014</td><td>FALSE         </td></tr>\n",
       "\t<tr><td>YPD           </td><td>SAKL0A00220g  </td><td>10806         </td><td>-0.4136605    </td><td>PCCGCIGL_00015</td><td>FALSE         </td></tr>\n",
       "\t<tr><td>YPD           </td><td>SAKL0A00242g  </td><td>13388         </td><td>-2.1032871    </td><td>PCCGCIGL_00017</td><td>FALSE         </td></tr>\n",
       "\t<tr><td>YPD           </td><td>SAKL0A00264g  </td><td>12895         </td><td>-4.0083337    </td><td>PCCGCIGL_00018</td><td>FALSE         </td></tr>\n",
       "\t<tr><td>YPD           </td><td>SAKL0A00286g  </td><td>13317         </td><td>-3.0215326    </td><td>PCCGCIGL_00019</td><td>FALSE         </td></tr>\n",
       "\t<tr><td>YPD           </td><td>SAKL0A00308g  </td><td>13595         </td><td> 0.4418466    </td><td>PCCGCIGL_00022</td><td>FALSE         </td></tr>\n",
       "\t<tr><td>YPD           </td><td>SAKL0A00330g  </td><td>14100         </td><td>-3.6088208    </td><td>PCCGCIGL_00024</td><td>FALSE         </td></tr>\n",
       "\t<tr><td>YPD           </td><td>SAKL0A00352g  </td><td>12852         </td><td>-1.1496253    </td><td>PCCGCIGL_00027</td><td>FALSE         </td></tr>\n",
       "\t<tr><td>YPD           </td><td>SAKL0A00374g  </td><td>13197         </td><td>-2.5732724    </td><td>PCCGCIGL_00029</td><td>FALSE         </td></tr>\n",
       "\t<tr><td>YPD           </td><td>SAKL0A00396g  </td><td>13814         </td><td>-2.6558920    </td><td>PCCGCIGL_00030</td><td>FALSE         </td></tr>\n",
       "\t<tr><td>YPD           </td><td>SAKL0A00418g  </td><td>14383         </td><td>-2.5396764    </td><td>PCCGCIGL_00031</td><td>FALSE         </td></tr>\n",
       "\t<tr><td>YPD           </td><td>SAKL0A00440g  </td><td>10574         </td><td>-0.2740351    </td><td>PCCGCIGL_00032</td><td>FALSE         </td></tr>\n",
       "\t<tr><td>YPD           </td><td>SAKL0A00462g  </td><td>11283         </td><td>-3.0691425    </td><td>PCCGCIGL_00034</td><td>FALSE         </td></tr>\n",
       "\t<tr><td>YPD           </td><td>SAKL0A00484g  </td><td>10603         </td><td>-3.4475430    </td><td>PCCGCIGL_00035</td><td>FALSE         </td></tr>\n",
       "\t<tr><td>YPD           </td><td>SAKL0A00506g  </td><td>10686         </td><td>-1.7617463    </td><td>PCCGCIGL_00036</td><td>FALSE         </td></tr>\n",
       "\t<tr><td>YPD           </td><td>SAKL0A00528g  </td><td>10491         </td><td>-2.6104283    </td><td>PCCGCIGL_00038</td><td>FALSE         </td></tr>\n",
       "\t<tr><td>YPD           </td><td>SAKL0A00550g  </td><td>15138         </td><td>-1.5598097    </td><td>PCCGCIGL_00039</td><td>FALSE         </td></tr>\n",
       "\t<tr><td>YPD           </td><td>SAKL0A00572g  </td><td>12534         </td><td>-3.8831803    </td><td>PCCGCIGL_00040</td><td>FALSE         </td></tr>\n",
       "\t<tr><td>YPD           </td><td>SAKL0A00594g  </td><td>13922         </td><td>-0.7623411    </td><td>PCCGCIGL_00041</td><td>FALSE         </td></tr>\n",
       "\t<tr><td>YPD           </td><td>SAKL0A00616g  </td><td>14034         </td><td>-0.6618690    </td><td>PCCGCIGL_00042</td><td>FALSE         </td></tr>\n",
       "\t<tr><td>YPD           </td><td>SAKL0A00638g  </td><td>10424         </td><td>-2.6712817    </td><td>PCCGCIGL_00043</td><td>FALSE         </td></tr>\n",
       "\t<tr><td>YPD           </td><td>SAKL0A00660g  </td><td>13462         </td><td>-0.6140942    </td><td>PCCGCIGL_00044</td><td>FALSE         </td></tr>\n",
       "\t<tr><td>YPD           </td><td>SAKL0A00704g  </td><td>12022         </td><td>-1.9097673    </td><td>PCCGCIGL_00050</td><td>FALSE         </td></tr>\n",
       "\t<tr><td>YPD           </td><td>SAKL0A00726g  </td><td>11941         </td><td>-2.3849562    </td><td>PCCGCIGL_00052</td><td>FALSE         </td></tr>\n",
       "\t<tr><td>YPD           </td><td>SAKL0A00748g  </td><td>13127         </td><td> 0.4384790    </td><td>PCCGCIGL_00054</td><td>FALSE         </td></tr>\n",
       "\t<tr><td>YPD           </td><td>SAKL0A00770g  </td><td>14042         </td><td> 0.5430522    </td><td>PCCGCIGL_00055</td><td>FALSE         </td></tr>\n",
       "\t<tr><td>YPD           </td><td>SAKL0A00792g  </td><td>14857         </td><td>-2.1812012    </td><td>PCCGCIGL_00056</td><td>FALSE         </td></tr>\n",
       "\t<tr><td>...</td><td>...</td><td>...</td><td>...</td><td>...</td><td>...</td></tr>\n",
       "\t<tr><td>YPD           </td><td>SAKL0H25608g  </td><td>10118         </td><td>-4.3330377    </td><td>PCCGCIGL_08247</td><td>FALSE         </td></tr>\n",
       "\t<tr><td>YPD           </td><td>SAKL0H25630g  </td><td>10805         </td><td>-0.1936292    </td><td>PCCGCIGL_08249</td><td>FALSE         </td></tr>\n",
       "\t<tr><td>YPD           </td><td>SAKL0H25652g  </td><td>12390         </td><td>-2.2433844    </td><td>PCCGCIGL_08250</td><td>FALSE         </td></tr>\n",
       "\t<tr><td>YPD           </td><td>SAKL0H25674g  </td><td>11206         </td><td>-2.4352436    </td><td>PCCGCIGL_08251</td><td>FALSE         </td></tr>\n",
       "\t<tr><td>YPD           </td><td>SAKL0H25696g  </td><td>10927         </td><td>-3.3182161    </td><td>PCCGCIGL_08252</td><td>FALSE         </td></tr>\n",
       "\t<tr><td>YPD           </td><td>SAKL0H25718g  </td><td>10672         </td><td>-3.6182726    </td><td>PCCGCIGL_08255</td><td>FALSE         </td></tr>\n",
       "\t<tr><td>YPD           </td><td>SAKL0H25740g  </td><td>11788         </td><td>-2.6607196    </td><td>PCCGCIGL_08256</td><td>FALSE         </td></tr>\n",
       "\t<tr><td>YPD           </td><td>SAKL0H25762g  </td><td>12770         </td><td>-2.8759540    </td><td>PCCGCIGL_08257</td><td>FALSE         </td></tr>\n",
       "\t<tr><td>YPD           </td><td>SAKL0H25784g  </td><td>13998         </td><td>-1.8451478    </td><td>PCCGCIGL_08260</td><td>FALSE         </td></tr>\n",
       "\t<tr><td>YPD           </td><td>SAKL0H25806g  </td><td>14419         </td><td>-1.5132710    </td><td>PCCGCIGL_08261</td><td>FALSE         </td></tr>\n",
       "\t<tr><td>YPD           </td><td>SAKL0H25828g  </td><td>14748         </td><td>-2.8173528    </td><td>PCCGCIGL_08262</td><td>FALSE         </td></tr>\n",
       "\t<tr><td>YPD           </td><td>SAKL0H25850g  </td><td>13107         </td><td> 0.8789697    </td><td>PCCGCIGL_08263</td><td>FALSE         </td></tr>\n",
       "\t<tr><td>YPD           </td><td>SAKL0H25872g  </td><td>14277         </td><td>-4.2763829    </td><td>PCCGCIGL_08264</td><td>FALSE         </td></tr>\n",
       "\t<tr><td>YPD           </td><td>SAKL0H25894g  </td><td>14830         </td><td>-2.0349679    </td><td>PCCGCIGL_08265</td><td>FALSE         </td></tr>\n",
       "\t<tr><td>YPD           </td><td>SAKL0H25916g  </td><td>12574         </td><td>-2.2748523    </td><td>PCCGCIGL_08266</td><td>FALSE         </td></tr>\n",
       "\t<tr><td>YPD           </td><td>SAKL0H25938g  </td><td>14901         </td><td>-4.8417682    </td><td>PCCGCIGL_08268</td><td>FALSE         </td></tr>\n",
       "\t<tr><td>YPD           </td><td>SAKL0H25960g  </td><td>13075         </td><td> 3.2929174    </td><td>PCCGCIGL_08270</td><td>FALSE         </td></tr>\n",
       "\t<tr><td>YPD           </td><td>SAKL0H25982g  </td><td>11236         </td><td>-1.1770840    </td><td>PCCGCIGL_08272</td><td>FALSE         </td></tr>\n",
       "\t<tr><td>YPD           </td><td>SAKL0H26004g  </td><td>11275         </td><td>-0.2712073    </td><td>PCCGCIGL_08273</td><td>FALSE         </td></tr>\n",
       "\t<tr><td>YPD           </td><td>SAKL0H26026g  </td><td>14663         </td><td>-0.5380655    </td><td>PCCGCIGL_08274</td><td>FALSE         </td></tr>\n",
       "\t<tr><td>YPD           </td><td>SAKL0H26048g  </td><td>15059         </td><td>-4.1786683    </td><td>PCCGCIGL_08275</td><td>FALSE         </td></tr>\n",
       "\t<tr><td>YPD           </td><td>SAKL0H26070g  </td><td>11494         </td><td>-3.9990176    </td><td>PCCGCIGL_08276</td><td>FALSE         </td></tr>\n",
       "\t<tr><td>YPD           </td><td>SAKL0H26092g  </td><td>13055         </td><td>-3.6919298    </td><td>PCCGCIGL_08277</td><td>FALSE         </td></tr>\n",
       "\t<tr><td>YPD           </td><td>SAKL0H26114g  </td><td>11815         </td><td> 0.9224284    </td><td>PCCGCIGL_08279</td><td>FALSE         </td></tr>\n",
       "\t<tr><td>YPD           </td><td>SAKL0H26136g  </td><td>14933         </td><td>-1.6165886    </td><td>PCCGCIGL_08280</td><td>FALSE         </td></tr>\n",
       "\t<tr><td>YPD           </td><td>SAKL0H26158g  </td><td>11970         </td><td>-0.7702400    </td><td>PCCGCIGL_08281</td><td>FALSE         </td></tr>\n",
       "\t<tr><td>YPD           </td><td>SAKL0H26180g  </td><td>12745         </td><td>-4.6964472    </td><td>PCCGCIGL_08282</td><td>FALSE         </td></tr>\n",
       "\t<tr><td>YPD           </td><td>SAKL0H26202g  </td><td>15107         </td><td>-5.4995585    </td><td>PCCGCIGL_08283</td><td>FALSE         </td></tr>\n",
       "\t<tr><td>YPD           </td><td>SAKL0H26224g  </td><td>14359         </td><td>-5.1546951    </td><td>PCCGCIGL_08286</td><td>FALSE         </td></tr>\n",
       "\t<tr><td>YPD           </td><td>SAKL0H26246g  </td><td>15017         </td><td>-4.2014961    </td><td>PCCGCIGL_08290</td><td>FALSE         </td></tr>\n",
       "</tbody>\n",
       "</table>\n"
      ],
      "text/latex": [
       "\\begin{tabular}{r|llllll}\n",
       " Condition & SAKIDs & IDs & Value & pcc\\_ids & highlight\\\\\n",
       "\\hline\n",
       "\t YPD              & SAKL0A00132g     & 11677            & -4.1578643       & PCCGCIGL\\_00007 & FALSE           \\\\\n",
       "\t YPD              & SAKL0A00154g     & 13177            & -6.2429032       & PCCGCIGL\\_00010 & FALSE           \\\\\n",
       "\t YPD              & SAKL0A00176g     & 15008            & -5.2022015       & PCCGCIGL\\_00012 & FALSE           \\\\\n",
       "\t YPD              & SAKL0A00198g     & 15280            & -2.8861090       & PCCGCIGL\\_00014 & FALSE           \\\\\n",
       "\t YPD              & SAKL0A00220g     & 10806            & -0.4136605       & PCCGCIGL\\_00015 & FALSE           \\\\\n",
       "\t YPD              & SAKL0A00242g     & 13388            & -2.1032871       & PCCGCIGL\\_00017 & FALSE           \\\\\n",
       "\t YPD              & SAKL0A00264g     & 12895            & -4.0083337       & PCCGCIGL\\_00018 & FALSE           \\\\\n",
       "\t YPD              & SAKL0A00286g     & 13317            & -3.0215326       & PCCGCIGL\\_00019 & FALSE           \\\\\n",
       "\t YPD              & SAKL0A00308g     & 13595            &  0.4418466       & PCCGCIGL\\_00022 & FALSE           \\\\\n",
       "\t YPD              & SAKL0A00330g     & 14100            & -3.6088208       & PCCGCIGL\\_00024 & FALSE           \\\\\n",
       "\t YPD              & SAKL0A00352g     & 12852            & -1.1496253       & PCCGCIGL\\_00027 & FALSE           \\\\\n",
       "\t YPD              & SAKL0A00374g     & 13197            & -2.5732724       & PCCGCIGL\\_00029 & FALSE           \\\\\n",
       "\t YPD              & SAKL0A00396g     & 13814            & -2.6558920       & PCCGCIGL\\_00030 & FALSE           \\\\\n",
       "\t YPD              & SAKL0A00418g     & 14383            & -2.5396764       & PCCGCIGL\\_00031 & FALSE           \\\\\n",
       "\t YPD              & SAKL0A00440g     & 10574            & -0.2740351       & PCCGCIGL\\_00032 & FALSE           \\\\\n",
       "\t YPD              & SAKL0A00462g     & 11283            & -3.0691425       & PCCGCIGL\\_00034 & FALSE           \\\\\n",
       "\t YPD              & SAKL0A00484g     & 10603            & -3.4475430       & PCCGCIGL\\_00035 & FALSE           \\\\\n",
       "\t YPD              & SAKL0A00506g     & 10686            & -1.7617463       & PCCGCIGL\\_00036 & FALSE           \\\\\n",
       "\t YPD              & SAKL0A00528g     & 10491            & -2.6104283       & PCCGCIGL\\_00038 & FALSE           \\\\\n",
       "\t YPD              & SAKL0A00550g     & 15138            & -1.5598097       & PCCGCIGL\\_00039 & FALSE           \\\\\n",
       "\t YPD              & SAKL0A00572g     & 12534            & -3.8831803       & PCCGCIGL\\_00040 & FALSE           \\\\\n",
       "\t YPD              & SAKL0A00594g     & 13922            & -0.7623411       & PCCGCIGL\\_00041 & FALSE           \\\\\n",
       "\t YPD              & SAKL0A00616g     & 14034            & -0.6618690       & PCCGCIGL\\_00042 & FALSE           \\\\\n",
       "\t YPD              & SAKL0A00638g     & 10424            & -2.6712817       & PCCGCIGL\\_00043 & FALSE           \\\\\n",
       "\t YPD              & SAKL0A00660g     & 13462            & -0.6140942       & PCCGCIGL\\_00044 & FALSE           \\\\\n",
       "\t YPD              & SAKL0A00704g     & 12022            & -1.9097673       & PCCGCIGL\\_00050 & FALSE           \\\\\n",
       "\t YPD              & SAKL0A00726g     & 11941            & -2.3849562       & PCCGCIGL\\_00052 & FALSE           \\\\\n",
       "\t YPD              & SAKL0A00748g     & 13127            &  0.4384790       & PCCGCIGL\\_00054 & FALSE           \\\\\n",
       "\t YPD              & SAKL0A00770g     & 14042            &  0.5430522       & PCCGCIGL\\_00055 & FALSE           \\\\\n",
       "\t YPD              & SAKL0A00792g     & 14857            & -2.1812012       & PCCGCIGL\\_00056 & FALSE           \\\\\n",
       "\t ... & ... & ... & ... & ... & ...\\\\\n",
       "\t YPD              & SAKL0H25608g     & 10118            & -4.3330377       & PCCGCIGL\\_08247 & FALSE           \\\\\n",
       "\t YPD              & SAKL0H25630g     & 10805            & -0.1936292       & PCCGCIGL\\_08249 & FALSE           \\\\\n",
       "\t YPD              & SAKL0H25652g     & 12390            & -2.2433844       & PCCGCIGL\\_08250 & FALSE           \\\\\n",
       "\t YPD              & SAKL0H25674g     & 11206            & -2.4352436       & PCCGCIGL\\_08251 & FALSE           \\\\\n",
       "\t YPD              & SAKL0H25696g     & 10927            & -3.3182161       & PCCGCIGL\\_08252 & FALSE           \\\\\n",
       "\t YPD              & SAKL0H25718g     & 10672            & -3.6182726       & PCCGCIGL\\_08255 & FALSE           \\\\\n",
       "\t YPD              & SAKL0H25740g     & 11788            & -2.6607196       & PCCGCIGL\\_08256 & FALSE           \\\\\n",
       "\t YPD              & SAKL0H25762g     & 12770            & -2.8759540       & PCCGCIGL\\_08257 & FALSE           \\\\\n",
       "\t YPD              & SAKL0H25784g     & 13998            & -1.8451478       & PCCGCIGL\\_08260 & FALSE           \\\\\n",
       "\t YPD              & SAKL0H25806g     & 14419            & -1.5132710       & PCCGCIGL\\_08261 & FALSE           \\\\\n",
       "\t YPD              & SAKL0H25828g     & 14748            & -2.8173528       & PCCGCIGL\\_08262 & FALSE           \\\\\n",
       "\t YPD              & SAKL0H25850g     & 13107            &  0.8789697       & PCCGCIGL\\_08263 & FALSE           \\\\\n",
       "\t YPD              & SAKL0H25872g     & 14277            & -4.2763829       & PCCGCIGL\\_08264 & FALSE           \\\\\n",
       "\t YPD              & SAKL0H25894g     & 14830            & -2.0349679       & PCCGCIGL\\_08265 & FALSE           \\\\\n",
       "\t YPD              & SAKL0H25916g     & 12574            & -2.2748523       & PCCGCIGL\\_08266 & FALSE           \\\\\n",
       "\t YPD              & SAKL0H25938g     & 14901            & -4.8417682       & PCCGCIGL\\_08268 & FALSE           \\\\\n",
       "\t YPD              & SAKL0H25960g     & 13075            &  3.2929174       & PCCGCIGL\\_08270 & FALSE           \\\\\n",
       "\t YPD              & SAKL0H25982g     & 11236            & -1.1770840       & PCCGCIGL\\_08272 & FALSE           \\\\\n",
       "\t YPD              & SAKL0H26004g     & 11275            & -0.2712073       & PCCGCIGL\\_08273 & FALSE           \\\\\n",
       "\t YPD              & SAKL0H26026g     & 14663            & -0.5380655       & PCCGCIGL\\_08274 & FALSE           \\\\\n",
       "\t YPD              & SAKL0H26048g     & 15059            & -4.1786683       & PCCGCIGL\\_08275 & FALSE           \\\\\n",
       "\t YPD              & SAKL0H26070g     & 11494            & -3.9990176       & PCCGCIGL\\_08276 & FALSE           \\\\\n",
       "\t YPD              & SAKL0H26092g     & 13055            & -3.6919298       & PCCGCIGL\\_08277 & FALSE           \\\\\n",
       "\t YPD              & SAKL0H26114g     & 11815            &  0.9224284       & PCCGCIGL\\_08279 & FALSE           \\\\\n",
       "\t YPD              & SAKL0H26136g     & 14933            & -1.6165886       & PCCGCIGL\\_08280 & FALSE           \\\\\n",
       "\t YPD              & SAKL0H26158g     & 11970            & -0.7702400       & PCCGCIGL\\_08281 & FALSE           \\\\\n",
       "\t YPD              & SAKL0H26180g     & 12745            & -4.6964472       & PCCGCIGL\\_08282 & FALSE           \\\\\n",
       "\t YPD              & SAKL0H26202g     & 15107            & -5.4995585       & PCCGCIGL\\_08283 & FALSE           \\\\\n",
       "\t YPD              & SAKL0H26224g     & 14359            & -5.1546951       & PCCGCIGL\\_08286 & FALSE           \\\\\n",
       "\t YPD              & SAKL0H26246g     & 15017            & -4.2014961       & PCCGCIGL\\_08290 & FALSE           \\\\\n",
       "\\end{tabular}\n"
      ],
      "text/markdown": [
       "\n",
       "| Condition | SAKIDs | IDs | Value | pcc_ids | highlight |\n",
       "|---|---|---|---|---|---|\n",
       "| YPD            | SAKL0A00132g   | 11677          | -4.1578643     | PCCGCIGL_00007 | FALSE          |\n",
       "| YPD            | SAKL0A00154g   | 13177          | -6.2429032     | PCCGCIGL_00010 | FALSE          |\n",
       "| YPD            | SAKL0A00176g   | 15008          | -5.2022015     | PCCGCIGL_00012 | FALSE          |\n",
       "| YPD            | SAKL0A00198g   | 15280          | -2.8861090     | PCCGCIGL_00014 | FALSE          |\n",
       "| YPD            | SAKL0A00220g   | 10806          | -0.4136605     | PCCGCIGL_00015 | FALSE          |\n",
       "| YPD            | SAKL0A00242g   | 13388          | -2.1032871     | PCCGCIGL_00017 | FALSE          |\n",
       "| YPD            | SAKL0A00264g   | 12895          | -4.0083337     | PCCGCIGL_00018 | FALSE          |\n",
       "| YPD            | SAKL0A00286g   | 13317          | -3.0215326     | PCCGCIGL_00019 | FALSE          |\n",
       "| YPD            | SAKL0A00308g   | 13595          |  0.4418466     | PCCGCIGL_00022 | FALSE          |\n",
       "| YPD            | SAKL0A00330g   | 14100          | -3.6088208     | PCCGCIGL_00024 | FALSE          |\n",
       "| YPD            | SAKL0A00352g   | 12852          | -1.1496253     | PCCGCIGL_00027 | FALSE          |\n",
       "| YPD            | SAKL0A00374g   | 13197          | -2.5732724     | PCCGCIGL_00029 | FALSE          |\n",
       "| YPD            | SAKL0A00396g   | 13814          | -2.6558920     | PCCGCIGL_00030 | FALSE          |\n",
       "| YPD            | SAKL0A00418g   | 14383          | -2.5396764     | PCCGCIGL_00031 | FALSE          |\n",
       "| YPD            | SAKL0A00440g   | 10574          | -0.2740351     | PCCGCIGL_00032 | FALSE          |\n",
       "| YPD            | SAKL0A00462g   | 11283          | -3.0691425     | PCCGCIGL_00034 | FALSE          |\n",
       "| YPD            | SAKL0A00484g   | 10603          | -3.4475430     | PCCGCIGL_00035 | FALSE          |\n",
       "| YPD            | SAKL0A00506g   | 10686          | -1.7617463     | PCCGCIGL_00036 | FALSE          |\n",
       "| YPD            | SAKL0A00528g   | 10491          | -2.6104283     | PCCGCIGL_00038 | FALSE          |\n",
       "| YPD            | SAKL0A00550g   | 15138          | -1.5598097     | PCCGCIGL_00039 | FALSE          |\n",
       "| YPD            | SAKL0A00572g   | 12534          | -3.8831803     | PCCGCIGL_00040 | FALSE          |\n",
       "| YPD            | SAKL0A00594g   | 13922          | -0.7623411     | PCCGCIGL_00041 | FALSE          |\n",
       "| YPD            | SAKL0A00616g   | 14034          | -0.6618690     | PCCGCIGL_00042 | FALSE          |\n",
       "| YPD            | SAKL0A00638g   | 10424          | -2.6712817     | PCCGCIGL_00043 | FALSE          |\n",
       "| YPD            | SAKL0A00660g   | 13462          | -0.6140942     | PCCGCIGL_00044 | FALSE          |\n",
       "| YPD            | SAKL0A00704g   | 12022          | -1.9097673     | PCCGCIGL_00050 | FALSE          |\n",
       "| YPD            | SAKL0A00726g   | 11941          | -2.3849562     | PCCGCIGL_00052 | FALSE          |\n",
       "| YPD            | SAKL0A00748g   | 13127          |  0.4384790     | PCCGCIGL_00054 | FALSE          |\n",
       "| YPD            | SAKL0A00770g   | 14042          |  0.5430522     | PCCGCIGL_00055 | FALSE          |\n",
       "| YPD            | SAKL0A00792g   | 14857          | -2.1812012     | PCCGCIGL_00056 | FALSE          |\n",
       "| ... | ... | ... | ... | ... | ... |\n",
       "| YPD            | SAKL0H25608g   | 10118          | -4.3330377     | PCCGCIGL_08247 | FALSE          |\n",
       "| YPD            | SAKL0H25630g   | 10805          | -0.1936292     | PCCGCIGL_08249 | FALSE          |\n",
       "| YPD            | SAKL0H25652g   | 12390          | -2.2433844     | PCCGCIGL_08250 | FALSE          |\n",
       "| YPD            | SAKL0H25674g   | 11206          | -2.4352436     | PCCGCIGL_08251 | FALSE          |\n",
       "| YPD            | SAKL0H25696g   | 10927          | -3.3182161     | PCCGCIGL_08252 | FALSE          |\n",
       "| YPD            | SAKL0H25718g   | 10672          | -3.6182726     | PCCGCIGL_08255 | FALSE          |\n",
       "| YPD            | SAKL0H25740g   | 11788          | -2.6607196     | PCCGCIGL_08256 | FALSE          |\n",
       "| YPD            | SAKL0H25762g   | 12770          | -2.8759540     | PCCGCIGL_08257 | FALSE          |\n",
       "| YPD            | SAKL0H25784g   | 13998          | -1.8451478     | PCCGCIGL_08260 | FALSE          |\n",
       "| YPD            | SAKL0H25806g   | 14419          | -1.5132710     | PCCGCIGL_08261 | FALSE          |\n",
       "| YPD            | SAKL0H25828g   | 14748          | -2.8173528     | PCCGCIGL_08262 | FALSE          |\n",
       "| YPD            | SAKL0H25850g   | 13107          |  0.8789697     | PCCGCIGL_08263 | FALSE          |\n",
       "| YPD            | SAKL0H25872g   | 14277          | -4.2763829     | PCCGCIGL_08264 | FALSE          |\n",
       "| YPD            | SAKL0H25894g   | 14830          | -2.0349679     | PCCGCIGL_08265 | FALSE          |\n",
       "| YPD            | SAKL0H25916g   | 12574          | -2.2748523     | PCCGCIGL_08266 | FALSE          |\n",
       "| YPD            | SAKL0H25938g   | 14901          | -4.8417682     | PCCGCIGL_08268 | FALSE          |\n",
       "| YPD            | SAKL0H25960g   | 13075          |  3.2929174     | PCCGCIGL_08270 | FALSE          |\n",
       "| YPD            | SAKL0H25982g   | 11236          | -1.1770840     | PCCGCIGL_08272 | FALSE          |\n",
       "| YPD            | SAKL0H26004g   | 11275          | -0.2712073     | PCCGCIGL_08273 | FALSE          |\n",
       "| YPD            | SAKL0H26026g   | 14663          | -0.5380655     | PCCGCIGL_08274 | FALSE          |\n",
       "| YPD            | SAKL0H26048g   | 15059          | -4.1786683     | PCCGCIGL_08275 | FALSE          |\n",
       "| YPD            | SAKL0H26070g   | 11494          | -3.9990176     | PCCGCIGL_08276 | FALSE          |\n",
       "| YPD            | SAKL0H26092g   | 13055          | -3.6919298     | PCCGCIGL_08277 | FALSE          |\n",
       "| YPD            | SAKL0H26114g   | 11815          |  0.9224284     | PCCGCIGL_08279 | FALSE          |\n",
       "| YPD            | SAKL0H26136g   | 14933          | -1.6165886     | PCCGCIGL_08280 | FALSE          |\n",
       "| YPD            | SAKL0H26158g   | 11970          | -0.7702400     | PCCGCIGL_08281 | FALSE          |\n",
       "| YPD            | SAKL0H26180g   | 12745          | -4.6964472     | PCCGCIGL_08282 | FALSE          |\n",
       "| YPD            | SAKL0H26202g   | 15107          | -5.4995585     | PCCGCIGL_08283 | FALSE          |\n",
       "| YPD            | SAKL0H26224g   | 14359          | -5.1546951     | PCCGCIGL_08286 | FALSE          |\n",
       "| YPD            | SAKL0H26246g   | 15017          | -4.2014961     | PCCGCIGL_08290 | FALSE          |\n",
       "\n"
      ],
      "text/plain": [
       "     Condition SAKIDs       IDs   Value      pcc_ids        highlight\n",
       "1    YPD       SAKL0A00132g 11677 -4.1578643 PCCGCIGL_00007 FALSE    \n",
       "2    YPD       SAKL0A00154g 13177 -6.2429032 PCCGCIGL_00010 FALSE    \n",
       "3    YPD       SAKL0A00176g 15008 -5.2022015 PCCGCIGL_00012 FALSE    \n",
       "4    YPD       SAKL0A00198g 15280 -2.8861090 PCCGCIGL_00014 FALSE    \n",
       "5    YPD       SAKL0A00220g 10806 -0.4136605 PCCGCIGL_00015 FALSE    \n",
       "6    YPD       SAKL0A00242g 13388 -2.1032871 PCCGCIGL_00017 FALSE    \n",
       "7    YPD       SAKL0A00264g 12895 -4.0083337 PCCGCIGL_00018 FALSE    \n",
       "8    YPD       SAKL0A00286g 13317 -3.0215326 PCCGCIGL_00019 FALSE    \n",
       "9    YPD       SAKL0A00308g 13595  0.4418466 PCCGCIGL_00022 FALSE    \n",
       "10   YPD       SAKL0A00330g 14100 -3.6088208 PCCGCIGL_00024 FALSE    \n",
       "11   YPD       SAKL0A00352g 12852 -1.1496253 PCCGCIGL_00027 FALSE    \n",
       "12   YPD       SAKL0A00374g 13197 -2.5732724 PCCGCIGL_00029 FALSE    \n",
       "13   YPD       SAKL0A00396g 13814 -2.6558920 PCCGCIGL_00030 FALSE    \n",
       "14   YPD       SAKL0A00418g 14383 -2.5396764 PCCGCIGL_00031 FALSE    \n",
       "15   YPD       SAKL0A00440g 10574 -0.2740351 PCCGCIGL_00032 FALSE    \n",
       "16   YPD       SAKL0A00462g 11283 -3.0691425 PCCGCIGL_00034 FALSE    \n",
       "17   YPD       SAKL0A00484g 10603 -3.4475430 PCCGCIGL_00035 FALSE    \n",
       "18   YPD       SAKL0A00506g 10686 -1.7617463 PCCGCIGL_00036 FALSE    \n",
       "19   YPD       SAKL0A00528g 10491 -2.6104283 PCCGCIGL_00038 FALSE    \n",
       "20   YPD       SAKL0A00550g 15138 -1.5598097 PCCGCIGL_00039 FALSE    \n",
       "21   YPD       SAKL0A00572g 12534 -3.8831803 PCCGCIGL_00040 FALSE    \n",
       "22   YPD       SAKL0A00594g 13922 -0.7623411 PCCGCIGL_00041 FALSE    \n",
       "23   YPD       SAKL0A00616g 14034 -0.6618690 PCCGCIGL_00042 FALSE    \n",
       "24   YPD       SAKL0A00638g 10424 -2.6712817 PCCGCIGL_00043 FALSE    \n",
       "25   YPD       SAKL0A00660g 13462 -0.6140942 PCCGCIGL_00044 FALSE    \n",
       "26   YPD       SAKL0A00704g 12022 -1.9097673 PCCGCIGL_00050 FALSE    \n",
       "27   YPD       SAKL0A00726g 11941 -2.3849562 PCCGCIGL_00052 FALSE    \n",
       "28   YPD       SAKL0A00748g 13127  0.4384790 PCCGCIGL_00054 FALSE    \n",
       "29   YPD       SAKL0A00770g 14042  0.5430522 PCCGCIGL_00055 FALSE    \n",
       "30   YPD       SAKL0A00792g 14857 -2.1812012 PCCGCIGL_00056 FALSE    \n",
       "...  ...       ...          ...   ...        ...            ...      \n",
       "5272 YPD       SAKL0H25608g 10118 -4.3330377 PCCGCIGL_08247 FALSE    \n",
       "5273 YPD       SAKL0H25630g 10805 -0.1936292 PCCGCIGL_08249 FALSE    \n",
       "5274 YPD       SAKL0H25652g 12390 -2.2433844 PCCGCIGL_08250 FALSE    \n",
       "5275 YPD       SAKL0H25674g 11206 -2.4352436 PCCGCIGL_08251 FALSE    \n",
       "5276 YPD       SAKL0H25696g 10927 -3.3182161 PCCGCIGL_08252 FALSE    \n",
       "5277 YPD       SAKL0H25718g 10672 -3.6182726 PCCGCIGL_08255 FALSE    \n",
       "5278 YPD       SAKL0H25740g 11788 -2.6607196 PCCGCIGL_08256 FALSE    \n",
       "5279 YPD       SAKL0H25762g 12770 -2.8759540 PCCGCIGL_08257 FALSE    \n",
       "5280 YPD       SAKL0H25784g 13998 -1.8451478 PCCGCIGL_08260 FALSE    \n",
       "5281 YPD       SAKL0H25806g 14419 -1.5132710 PCCGCIGL_08261 FALSE    \n",
       "5282 YPD       SAKL0H25828g 14748 -2.8173528 PCCGCIGL_08262 FALSE    \n",
       "5283 YPD       SAKL0H25850g 13107  0.8789697 PCCGCIGL_08263 FALSE    \n",
       "5284 YPD       SAKL0H25872g 14277 -4.2763829 PCCGCIGL_08264 FALSE    \n",
       "5285 YPD       SAKL0H25894g 14830 -2.0349679 PCCGCIGL_08265 FALSE    \n",
       "5286 YPD       SAKL0H25916g 12574 -2.2748523 PCCGCIGL_08266 FALSE    \n",
       "5287 YPD       SAKL0H25938g 14901 -4.8417682 PCCGCIGL_08268 FALSE    \n",
       "5288 YPD       SAKL0H25960g 13075  3.2929174 PCCGCIGL_08270 FALSE    \n",
       "5289 YPD       SAKL0H25982g 11236 -1.1770840 PCCGCIGL_08272 FALSE    \n",
       "5290 YPD       SAKL0H26004g 11275 -0.2712073 PCCGCIGL_08273 FALSE    \n",
       "5291 YPD       SAKL0H26026g 14663 -0.5380655 PCCGCIGL_08274 FALSE    \n",
       "5292 YPD       SAKL0H26048g 15059 -4.1786683 PCCGCIGL_08275 FALSE    \n",
       "5293 YPD       SAKL0H26070g 11494 -3.9990176 PCCGCIGL_08276 FALSE    \n",
       "5294 YPD       SAKL0H26092g 13055 -3.6919298 PCCGCIGL_08277 FALSE    \n",
       "5295 YPD       SAKL0H26114g 11815  0.9224284 PCCGCIGL_08279 FALSE    \n",
       "5296 YPD       SAKL0H26136g 14933 -1.6165886 PCCGCIGL_08280 FALSE    \n",
       "5297 YPD       SAKL0H26158g 11970 -0.7702400 PCCGCIGL_08281 FALSE    \n",
       "5298 YPD       SAKL0H26180g 12745 -4.6964472 PCCGCIGL_08282 FALSE    \n",
       "5299 YPD       SAKL0H26202g 15107 -5.4995585 PCCGCIGL_08283 FALSE    \n",
       "5300 YPD       SAKL0H26224g 14359 -5.1546951 PCCGCIGL_08286 FALSE    \n",
       "5301 YPD       SAKL0H26246g 15017 -4.2014961 PCCGCIGL_08290 FALSE    "
      ]
     },
     "metadata": {},
     "output_type": "display_data"
    }
   ],
   "source": [
    "MapPC"
   ]
  },
  {
   "cell_type": "code",
   "execution_count": 21,
   "metadata": {},
   "outputs": [],
   "source": [
    "write.csv(MapPC,\"NormalizedAbsoluteExpression.csv\")"
   ]
  }
 ],
 "metadata": {
  "kernelspec": {
   "display_name": "R",
   "language": "R",
   "name": "ir"
  },
  "language_info": {
   "codemirror_mode": "r",
   "file_extension": ".r",
   "mimetype": "text/x-r-source",
   "name": "R",
   "pygments_lexer": "r",
   "version": "3.6.1"
  }
 },
 "nbformat": 4,
 "nbformat_minor": 2
}
