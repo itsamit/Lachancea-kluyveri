{
 "cells": [
  {
   "cell_type": "code",
   "execution_count": null,
   "metadata": {},
   "outputs": [],
   "source": [
    "import cobra\n",
    "import pandas as pd\n",
    "import numpy as np\n",
    "import matplotlib.pyplot as plt\n",
    "from cobra.flux_analysis import single_gene_deletion\n",
    "from molmass import Formula\n",
    "\n",
    "%matplotlib inline"
   ]
  },
  {
   "cell_type": "code",
   "execution_count": null,
   "metadata": {},
   "outputs": [],
   "source": [
    "model=cobra.io.read_sbml_model(\"D:/ScientificReports/iPN730.xml\")\n",
    "model.solver='glpk'\n",
    "model.reactions.EX_cpd00092_e0.bounds=(0,1000)\n",
    "model.reactions.EX_cpd19013_e0.bounds=(-1000,1000)\n",
    "model.reactions.EX_cpd00027_e0.bounds=(-2.28,1000)\n",
    "model.reactions.EX_cpd00007_e0.bounds=(-10,1000)\n",
    "model.summary()"
   ]
  },
  {
   "cell_type": "code",
   "execution_count": null,
   "metadata": {},
   "outputs": [],
   "source": [
    "bio=model.reactions.get_by_id('bio1')\n",
    "met_pc=bio.metabolites\n",
    "met_names=[]\n",
    "met_coeff=[]\n",
    "met_formula=[]\n",
    "met_chemnames=[]\n",
    "for met in met_pc:\n",
    "    met_names.append(met.id)\n",
    "    met_coeff.append(met_pc[met])\n",
    "    met_chemnames.append(met.name)\n",
    "    met_formula.append(met.formula)\n",
    "met_formula[1]='C4140H7644O1300P100'\n",
    "met_formula[9]='C3736H7172N100O1000P100'\n",
    "met_formula[10]='C3636H7172N100O800P100'"
   ]
  },
  {
   "cell_type": "code",
   "execution_count": null,
   "metadata": {},
   "outputs": [],
   "source": [
    "def cnratio(modelg):\n",
    "    nh4=np.linspace(0.1,2.27,20)\n",
    "    cn=((6*2.26)/(1*nh4)*(12/14))\n",
    "    fit=[]\n",
    "    for n in nh4:\n",
    "        modelg.reactions.EX_cpd19013_e0.bounds=(-n,1000)\n",
    "        fit.append(modelg.slim_optimize())\n",
    "    cnval=cn[fit.index(max(fit))]\n",
    "    return [cnval,max(fit)]"
   ]
  },
  {
   "cell_type": "code",
   "execution_count": null,
   "metadata": {},
   "outputs": [],
   "source": [
    "def gr(p,metc,metn):\n",
    "    if(metc<0):\n",
    "        \n",
    "        #Increase\n",
    "        modelf=model.copy()\n",
    "        biof=modelf.reactions.get_by_id('bio1')\n",
    "        biof.add_metabolites({modelf.metabolites.get_by_id(metn):p*(-metc)})\n",
    "        gr_plus10=modelf.slim_optimize()\n",
    "        sgd_minimal=single_gene_deletion(model,method='FBA')\n",
    "        sgd_minimal['SimulationTruth']=sgd_minimal['growth'].apply(lambda x:'Growth' if (round(x,5)!=0) else 'No Growth')\n",
    "        ess_genp10=sgd_minimal[sgd_minimal['SimulationTruth']=='No Growth'].count()['growth']\n",
    "        \n",
    "#         optgr_p10=cnratio(modelf)\n",
    "        \n",
    "        #Decrease\n",
    "        modelf=model.copy()\n",
    "        biof=modelf.reactions.get_by_id('bio1')\n",
    "        biof.add_metabolites({modelf.metabolites.get_by_id(metn):p*(metc)})\n",
    "        gr_minus10=modelf.slim_optimize()\n",
    "        sgd_minimal=single_gene_deletion(model,method='FBA')\n",
    "        sgd_minimal['SimulationTruth']=sgd_minimal['growth'].apply(lambda x:'Growth' if (round(x,5)!=0) else 'No Growth')\n",
    "        ess_genm10=sgd_minimal[sgd_minimal['SimulationTruth']=='No Growth'].count()['growth']\n",
    "        #         optgr_m10=cnratio(modelf)\n",
    "        \n",
    "        return gr_plus10,gr_minus10,ess_genp10,ess_genm10"
   ]
  },
  {
   "cell_type": "code",
   "execution_count": null,
   "metadata": {},
   "outputs": [],
   "source": [
    "def atomcount(formula,e):\n",
    "    f=Formula(formula)\n",
    "    get=list(f.composition())\n",
    "    d=pd.DataFrame(get,columns=['Element','Count','Bla1','Bla2'])\n",
    "    d.index=d['Element']\n",
    "    return d['Count'][e]"
   ]
  },
  {
   "cell_type": "code",
   "execution_count": null,
   "metadata": {},
   "outputs": [],
   "source": [
    "p=50\n",
    "p=p/100\n",
    "p10=[]\n",
    "m10=[]\n",
    "ess_p10=[]\n",
    "ess_m10=[]\n",
    "for metn,metc in zip(met_names,met_coeff):\n",
    "    print('Current Biomass Precursor: ',metn)\n",
    "    grp10,grm10,essp10,essm10=gr(p,metc,metn)\n",
    "    p10.append(grp10)\n",
    "    m10.append(grm10)\n",
    "    ess_p10.append(essp10)\n",
    "    ess_m10.append(essm10)\n",
    "    print('Increase-Growth Rate: ',grp10)\n",
    "    print('Decrease-Growth Rate: ',grm10)\n",
    "    print('Increase-Essential Genes: ',essp10)\n",
    "    print('Decrease-Essential Genes: ',essm10)"
   ]
  },
  {
   "cell_type": "code",
   "execution_count": null,
   "metadata": {},
   "outputs": [],
   "source": [
    "df_sorted=pd.DataFrame({\"Name\":pd.Series(met_chemnames[:44]),\"Increase\":p10,\"Decrease\":m10,\"Formula\":met_formula[:44],'Coeff':met_coeff[:44]})\n",
    "df_sorted['Diff']=df_sorted['Increase']-df_sorted['Decrease']\n",
    "df_sorted['Formula']=df_sorted['Formula'].apply(lambda x: x[0:x.index('R')] if ('R' in x) else x)\n",
    "df_sorted=df_sorted.sort_values(by='Diff',ascending=False)\n",
    "df_sorted=df_sorted.reset_index(drop=True)"
   ]
  },
  {
   "cell_type": "code",
   "execution_count": null,
   "metadata": {},
   "outputs": [],
   "source": [
    "#CountC/NRatio\n",
    "df_sorted['C']=df_sorted['Formula'].apply(lambda x:(atomcount(x,'C')) if ('C' in x) else 0)\n",
    "df_sorted['N']=df_sorted['Formula'].apply(lambda x:(atomcount(x,'N')) if ('N' in x) else 0)\n",
    "df_sorted['Cmols']=df_sorted['C']*abs(df_sorted['Coeff'])\n",
    "df_sorted['Nmols']=df_sorted['N']*abs(df_sorted['Coeff'])"
   ]
  },
  {
   "cell_type": "code",
   "execution_count": null,
   "metadata": {},
   "outputs": [],
   "source": [
    "import matplotlib.ticker as ticker\n",
    "fig,ax=plt.subplots(nrows=1,ncols=1,figsize=(12,20))\n",
    "ax.bar(df_sorted['Name'],df_sorted['Diff'],bottom=df_sorted['Decrease'],color='r')\n",
    "ax.set_ylabel('Biomass Precursors',fontsize=14)\n",
    "ax.set_xlabel('Growth rate (1/hr)',fontsize=14)\n",
    "ax.set_xlim([0.205,0.24])\n",
    "plt.yticks(np.arange(0,44,1),rotation=40)\n",
    "ax.set_yticklabels(met_chemnames,fontsize=16)\n",
    "ax.plot(df_sorted['Increase'],'bo')\n",
    "ax.plot(df_sorted['Decrease'],'yo')\n",
    "plt.gca().invert_xaxis()"
   ]
  },
  {
   "cell_type": "code",
   "execution_count": null,
   "metadata": {},
   "outputs": [],
   "source": [
    "fig.savefig(\"D:/ScientificReports/BiomassSensitivityNames.jpg\",dpi=1200)"
   ]
  },
  {
   "cell_type": "code",
   "execution_count": null,
   "metadata": {},
   "outputs": [],
   "source": [
    "df_sorted['CmolsInc']=df_sorted['Cmols']*1.5\n",
    "df_sorted['CmolsDec']=df_sorted['Cmols']*0.5\n",
    "df_sorted['NmolsInc']=df_sorted['Nmols']*1.5\n",
    "df_sorted['NmolsDec']=df_sorted['Nmols']*0.5\n",
    "\n",
    "df_sorted['C/NInc']=pd.Series()\n",
    "df_sorted['C/NDec']=pd.Series()\n",
    "\n",
    "for i in range(len(df_sorted)):\n",
    "    df_sorted['C/NInc'][i]=(df_sorted['Cmols'].sum()+(df_sorted['CmolsInc'][i]-df_sorted['Cmols'][i]))/(df_sorted['Nmols'].sum()+(df_sorted['NmolsInc'][i]-df_sorted['Nmols'][i]))\n",
    "    df_sorted['C/NDec'][i]=(df_sorted['Cmols'].sum()+(df_sorted['Cmols'][i]-df_sorted['CmolsDec'][i]))/(df_sorted['Nmols'].sum()+(df_sorted['Nmols'][i]-df_sorted['NmolsDec'][i]))\n",
    "    "
   ]
  },
  {
   "cell_type": "code",
   "execution_count": null,
   "metadata": {},
   "outputs": [],
   "source": [
    "df_sorted"
   ]
  },
  {
   "cell_type": "code",
   "execution_count": null,
   "metadata": {},
   "outputs": [],
   "source": [
    "cobra.io.write_sbml_model(model,\"D:/ScientificReports/iPN730.xml\")"
   ]
  }
 ],
 "metadata": {
  "kernelspec": {
   "display_name": "Python 3",
   "language": "python",
   "name": "python3"
  },
  "language_info": {
   "codemirror_mode": {
    "name": "ipython",
    "version": 3
   },
   "file_extension": ".py",
   "mimetype": "text/x-python",
   "name": "python",
   "nbconvert_exporter": "python",
   "pygments_lexer": "ipython3",
   "version": "3.7.3"
  }
 },
 "nbformat": 4,
 "nbformat_minor": 2
}
